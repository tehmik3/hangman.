{
  "nbformat": 4,
  "nbformat_minor": 0,
  "metadata": {
    "colab": {
      "private_outputs": true,
      "provenance": [],
      "authorship_tag": "ABX9TyOltTETGY83+xV6Im8+p76C",
      "include_colab_link": true
    },
    "kernelspec": {
      "name": "python3",
      "display_name": "Python 3"
    },
    "language_info": {
      "name": "python"
    }
  },
  "cells": [
    {
      "cell_type": "markdown",
      "metadata": {
        "id": "view-in-github",
        "colab_type": "text"
      },
      "source": [
        "<a href=\"https://colab.research.google.com/github/tehmik3/hangman./blob/main/HANGMAN.ipynb\" target=\"_parent\"><img src=\"https://colab.research.google.com/assets/colab-badge.svg\" alt=\"Open In Colab\"/></a>"
      ]
    },
    {
      "cell_type": "markdown",
      "source": [
        "# ***HANGMAN***"
      ],
      "metadata": {
        "id": "Z3EBVTWOu8rF"
      }
    },
    {
      "cell_type": "code",
      "execution_count": null,
      "metadata": {
        "id": "94pxuTJwu3dT"
      },
      "outputs": [],
      "source": [
        "import random\n",
        "from words import words\n",
        "import string\n",
        "\n",
        "def get_valid_word(words):\n",
        "  word = random.choice(words)\n",
        "  while '-' in word or ' ' in word:\n",
        "    word = random.choice(words)\n",
        "\n",
        "  return word\n",
        "\n",
        "def hangman():\n",
        "  word = get_valid_word(words)\n",
        "  word_letters = set(word)\n",
        "  alphabet = set(string.ascii_uppercase)\n",
        "  used_letters = set()\n",
        "\n",
        "    # getting user input\n",
        "  while len(word_letters) > 0:\n",
        "    # ''.join(['a',''b','cd') --> 'a b cd'\n",
        "    print(\"You have used this letters: ', '\".join(used_letters))\n",
        "\n",
        "    # what current word is (ie W-RD)\n",
        "    word_list = [letter if letter in used_letters else '_' for letter in word]\n",
        "    print(\"Current word: ', '\".join(word_list))\n",
        "\n",
        "    user_letter = input(\"Guess a letter: \").upper()\n",
        "    if user_letter in alphabet - used_letters:\n",
        "      used_letters.add(user_letter)\n",
        "      if user_letter in word_letters:\n",
        "       word_letters.remove(user_letter)\n",
        "\n",
        "    elif user_letter in used_letters:\n",
        "      print(\"You have already used that character. Please try again.\")\n",
        "\n",
        "    else:\n",
        "        print(\"Invalid character. Please try again.\")\n",
        "\n",
        "  # gets here when len(word_letters) == 0\n",
        "\n"
      ]
    }
  ]
}